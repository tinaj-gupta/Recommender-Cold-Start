{
  "nbformat": 4,
  "nbformat_minor": 0,
  "metadata": {
    "kernelspec": {
      "display_name": "Python 3",
      "language": "python",
      "name": "python3"
    },
    "language_info": {
      "codemirror_mode": {
        "name": "ipython",
        "version": 3
      },
      "file_extension": ".py",
      "mimetype": "text/x-python",
      "name": "python",
      "nbconvert_exporter": "python",
      "pygments_lexer": "ipython3",
      "version": "3.5.4"
    },
    "colab": {
      "name": "recommender_demographic.ipynb",
      "provenance": [],
      "include_colab_link": true
    }
  },
  "cells": [
    {
      "cell_type": "markdown",
      "metadata": {
        "id": "view-in-github",
        "colab_type": "text"
      },
      "source": [
        "<a href=\"https://colab.research.google.com/github/tinaj-gupta/Recommender-Cold-Start/blob/master/recommender_demographic.ipynb\" target=\"_parent\"><img src=\"https://colab.research.google.com/assets/colab-badge.svg\" alt=\"Open In Colab\"/></a>"
      ]
    },
    {
      "cell_type": "code",
      "metadata": {
        "id": "zw9Nyyf7RplW",
        "colab_type": "code",
        "colab": {}
      },
      "source": [
        "import pandas as pd \n",
        "import numpy as np \n",
        "df1=pd.read_csv('olist_orders_dataset.csv')\n",
        "df2=pd.read_csv('olist_customers_dataset.csv')\n",
        "df3=pd.read_csv('olist_order_items_dataset.csv')"
      ],
      "execution_count": null,
      "outputs": []
    },
    {
      "cell_type": "code",
      "metadata": {
        "id": "e2BH9nXfRpln",
        "colab_type": "code",
        "colab": {},
        "outputId": "4d1208e9-7e19-4b63-ec71-03e958ede723"
      },
      "source": [
        "df1.head(1)"
      ],
      "execution_count": null,
      "outputs": [
        {
          "output_type": "execute_result",
          "data": {
            "text/html": [
              "<div>\n",
              "<style scoped>\n",
              "    .dataframe tbody tr th:only-of-type {\n",
              "        vertical-align: middle;\n",
              "    }\n",
              "\n",
              "    .dataframe tbody tr th {\n",
              "        vertical-align: top;\n",
              "    }\n",
              "\n",
              "    .dataframe thead th {\n",
              "        text-align: right;\n",
              "    }\n",
              "</style>\n",
              "<table border=\"1\" class=\"dataframe\">\n",
              "  <thead>\n",
              "    <tr style=\"text-align: right;\">\n",
              "      <th></th>\n",
              "      <th>order_id</th>\n",
              "      <th>customer_id</th>\n",
              "      <th>order_status</th>\n",
              "      <th>order_purchase_timestamp</th>\n",
              "      <th>order_approved_at</th>\n",
              "      <th>order_delivered_carrier_date</th>\n",
              "      <th>order_delivered_customer_date</th>\n",
              "      <th>order_estimated_delivery_date</th>\n",
              "    </tr>\n",
              "  </thead>\n",
              "  <tbody>\n",
              "    <tr>\n",
              "      <th>0</th>\n",
              "      <td>e481f51cbdc54678b7cc49136f2d6af7</td>\n",
              "      <td>9ef432eb6251297304e76186b10a928d</td>\n",
              "      <td>delivered</td>\n",
              "      <td>2017-10-02 10:56:33</td>\n",
              "      <td>2017-10-02 11:07:15</td>\n",
              "      <td>2017-10-04 19:55:00</td>\n",
              "      <td>2017-10-10 21:25:13</td>\n",
              "      <td>2017-10-18 00:00:00</td>\n",
              "    </tr>\n",
              "  </tbody>\n",
              "</table>\n",
              "</div>"
            ],
            "text/plain": [
              "                           order_id                       customer_id  \\\n",
              "0  e481f51cbdc54678b7cc49136f2d6af7  9ef432eb6251297304e76186b10a928d   \n",
              "\n",
              "  order_status order_purchase_timestamp    order_approved_at  \\\n",
              "0    delivered      2017-10-02 10:56:33  2017-10-02 11:07:15   \n",
              "\n",
              "  order_delivered_carrier_date order_delivered_customer_date  \\\n",
              "0          2017-10-04 19:55:00           2017-10-10 21:25:13   \n",
              "\n",
              "  order_estimated_delivery_date  \n",
              "0           2017-10-18 00:00:00  "
            ]
          },
          "metadata": {
            "tags": []
          },
          "execution_count": 120
        }
      ]
    },
    {
      "cell_type": "code",
      "metadata": {
        "id": "Bvxcp21NRpl5",
        "colab_type": "code",
        "colab": {},
        "outputId": "7bee85b1-f62d-4783-ec5d-5fc141fd94b7"
      },
      "source": [
        "df2.head(1)"
      ],
      "execution_count": null,
      "outputs": [
        {
          "output_type": "execute_result",
          "data": {
            "text/html": [
              "<div>\n",
              "<style scoped>\n",
              "    .dataframe tbody tr th:only-of-type {\n",
              "        vertical-align: middle;\n",
              "    }\n",
              "\n",
              "    .dataframe tbody tr th {\n",
              "        vertical-align: top;\n",
              "    }\n",
              "\n",
              "    .dataframe thead th {\n",
              "        text-align: right;\n",
              "    }\n",
              "</style>\n",
              "<table border=\"1\" class=\"dataframe\">\n",
              "  <thead>\n",
              "    <tr style=\"text-align: right;\">\n",
              "      <th></th>\n",
              "      <th>customer_id</th>\n",
              "      <th>customer_unique_id</th>\n",
              "      <th>customer_zip_code_prefix</th>\n",
              "      <th>customer_city</th>\n",
              "      <th>customer_state</th>\n",
              "    </tr>\n",
              "  </thead>\n",
              "  <tbody>\n",
              "    <tr>\n",
              "      <th>0</th>\n",
              "      <td>06b8999e2fba1a1fbc88172c00ba8bc7</td>\n",
              "      <td>861eff4711a542e4b93843c6dd7febb0</td>\n",
              "      <td>14409</td>\n",
              "      <td>franca</td>\n",
              "      <td>SP</td>\n",
              "    </tr>\n",
              "  </tbody>\n",
              "</table>\n",
              "</div>"
            ],
            "text/plain": [
              "                        customer_id                customer_unique_id  \\\n",
              "0  06b8999e2fba1a1fbc88172c00ba8bc7  861eff4711a542e4b93843c6dd7febb0   \n",
              "\n",
              "   customer_zip_code_prefix customer_city customer_state  \n",
              "0                     14409        franca             SP  "
            ]
          },
          "metadata": {
            "tags": []
          },
          "execution_count": 121
        }
      ]
    },
    {
      "cell_type": "code",
      "metadata": {
        "id": "Yre79EjVRpmD",
        "colab_type": "code",
        "colab": {}
      },
      "source": [
        "df2= df2.merge(df1,on='customer_id')\n",
        "df2= df2.merge(df3,on='order_id')"
      ],
      "execution_count": null,
      "outputs": []
    },
    {
      "cell_type": "code",
      "metadata": {
        "id": "l6toIK5oRpmN",
        "colab_type": "code",
        "colab": {},
        "outputId": "4e809e9b-e9ad-4997-8b1d-f035cdcb32e1"
      },
      "source": [
        "df2.info()"
      ],
      "execution_count": null,
      "outputs": [
        {
          "output_type": "stream",
          "text": [
            "<class 'pandas.core.frame.DataFrame'>\n",
            "Int64Index: 112650 entries, 0 to 112649\n",
            "Data columns (total 18 columns):\n",
            "customer_id                      112650 non-null object\n",
            "customer_unique_id               112650 non-null object\n",
            "customer_zip_code_prefix         112650 non-null int64\n",
            "customer_city                    112650 non-null object\n",
            "customer_state                   112650 non-null object\n",
            "order_id                         112650 non-null object\n",
            "order_status                     112650 non-null object\n",
            "order_purchase_timestamp         112650 non-null object\n",
            "order_approved_at                112635 non-null object\n",
            "order_delivered_carrier_date     111456 non-null object\n",
            "order_delivered_customer_date    110196 non-null object\n",
            "order_estimated_delivery_date    112650 non-null object\n",
            "order_item_id                    112650 non-null int64\n",
            "product_id                       112650 non-null object\n",
            "seller_id                        112650 non-null object\n",
            "shipping_limit_date              112650 non-null object\n",
            "price                            112650 non-null float64\n",
            "freight_value                    112650 non-null float64\n",
            "dtypes: float64(2), int64(2), object(14)\n",
            "memory usage: 16.3+ MB\n"
          ],
          "name": "stdout"
        }
      ]
    },
    {
      "cell_type": "code",
      "metadata": {
        "id": "bwsfC7xURpmY",
        "colab_type": "code",
        "colab": {}
      },
      "source": [
        "df2 = df2.drop(['customer_id', 'customer_unique_id','order_approved_at','order_delivered_carrier_date','order_delivered_customer_date',\n",
        "         'order_estimated_delivery_date' ,'seller_id','shipping_limit_date','price',\n",
        "                'freight_value','order_status','order_purchase_timestamp' ], axis = 1) \n"
      ],
      "execution_count": null,
      "outputs": []
    },
    {
      "cell_type": "code",
      "metadata": {
        "id": "Hjzlv0KJRpmh",
        "colab_type": "code",
        "colab": {}
      },
      "source": [
        "c = 1\n",
        "df2['bought_count'] = c"
      ],
      "execution_count": null,
      "outputs": []
    },
    {
      "cell_type": "code",
      "metadata": {
        "id": "n5QBKed9Rpmt",
        "colab_type": "code",
        "colab": {},
        "outputId": "f185dbe9-d68c-432a-a8ac-ef58bc1937da"
      },
      "source": [
        "df4 = pd.read_csv('olist_products_dataset.csv')\n",
        "df2= df2.merge(df4,on='product_id').drop(['product_name_lenght','product_description_lenght',\n",
        "                                          'product_photos_qty','product_weight_g','product_length_cm','product_height_cm',\n",
        "                                          'product_width_cm'],axis=1)\n",
        "df2.head()"
      ],
      "execution_count": null,
      "outputs": [
        {
          "output_type": "execute_result",
          "data": {
            "text/html": [
              "<div>\n",
              "<style scoped>\n",
              "    .dataframe tbody tr th:only-of-type {\n",
              "        vertical-align: middle;\n",
              "    }\n",
              "\n",
              "    .dataframe tbody tr th {\n",
              "        vertical-align: top;\n",
              "    }\n",
              "\n",
              "    .dataframe thead th {\n",
              "        text-align: right;\n",
              "    }\n",
              "</style>\n",
              "<table border=\"1\" class=\"dataframe\">\n",
              "  <thead>\n",
              "    <tr style=\"text-align: right;\">\n",
              "      <th></th>\n",
              "      <th>customer_zip_code_prefix</th>\n",
              "      <th>customer_city</th>\n",
              "      <th>customer_state</th>\n",
              "      <th>order_id</th>\n",
              "      <th>order_item_id</th>\n",
              "      <th>product_id</th>\n",
              "      <th>bought_count</th>\n",
              "      <th>product_category_name</th>\n",
              "    </tr>\n",
              "  </thead>\n",
              "  <tbody>\n",
              "    <tr>\n",
              "      <th>0</th>\n",
              "      <td>14409</td>\n",
              "      <td>franca</td>\n",
              "      <td>SP</td>\n",
              "      <td>00e7ee1b050b8499577073aeb2a297a1</td>\n",
              "      <td>1</td>\n",
              "      <td>a9516a079e37a9c9c36b9b78b10169e8</td>\n",
              "      <td>1</td>\n",
              "      <td>moveis_escritorio</td>\n",
              "    </tr>\n",
              "    <tr>\n",
              "      <th>1</th>\n",
              "      <td>68030</td>\n",
              "      <td>santarem</td>\n",
              "      <td>PA</td>\n",
              "      <td>c1d2b34febe9cd269e378117d6681172</td>\n",
              "      <td>1</td>\n",
              "      <td>a9516a079e37a9c9c36b9b78b10169e8</td>\n",
              "      <td>1</td>\n",
              "      <td>moveis_escritorio</td>\n",
              "    </tr>\n",
              "    <tr>\n",
              "      <th>2</th>\n",
              "      <td>68030</td>\n",
              "      <td>santarem</td>\n",
              "      <td>PA</td>\n",
              "      <td>c1d2b34febe9cd269e378117d6681172</td>\n",
              "      <td>2</td>\n",
              "      <td>a9516a079e37a9c9c36b9b78b10169e8</td>\n",
              "      <td>1</td>\n",
              "      <td>moveis_escritorio</td>\n",
              "    </tr>\n",
              "    <tr>\n",
              "      <th>3</th>\n",
              "      <td>92480</td>\n",
              "      <td>nova santa rita</td>\n",
              "      <td>RS</td>\n",
              "      <td>b1a5d5365d330d10485e0203d54ab9e8</td>\n",
              "      <td>1</td>\n",
              "      <td>a9516a079e37a9c9c36b9b78b10169e8</td>\n",
              "      <td>1</td>\n",
              "      <td>moveis_escritorio</td>\n",
              "    </tr>\n",
              "    <tr>\n",
              "      <th>4</th>\n",
              "      <td>25931</td>\n",
              "      <td>mage</td>\n",
              "      <td>RJ</td>\n",
              "      <td>2e604b3614664aa66867856dba7e61b7</td>\n",
              "      <td>1</td>\n",
              "      <td>a9516a079e37a9c9c36b9b78b10169e8</td>\n",
              "      <td>1</td>\n",
              "      <td>moveis_escritorio</td>\n",
              "    </tr>\n",
              "  </tbody>\n",
              "</table>\n",
              "</div>"
            ],
            "text/plain": [
              "   customer_zip_code_prefix    customer_city customer_state  \\\n",
              "0                     14409           franca             SP   \n",
              "1                     68030         santarem             PA   \n",
              "2                     68030         santarem             PA   \n",
              "3                     92480  nova santa rita             RS   \n",
              "4                     25931             mage             RJ   \n",
              "\n",
              "                           order_id  order_item_id  \\\n",
              "0  00e7ee1b050b8499577073aeb2a297a1              1   \n",
              "1  c1d2b34febe9cd269e378117d6681172              1   \n",
              "2  c1d2b34febe9cd269e378117d6681172              2   \n",
              "3  b1a5d5365d330d10485e0203d54ab9e8              1   \n",
              "4  2e604b3614664aa66867856dba7e61b7              1   \n",
              "\n",
              "                         product_id  bought_count product_category_name  \n",
              "0  a9516a079e37a9c9c36b9b78b10169e8             1     moveis_escritorio  \n",
              "1  a9516a079e37a9c9c36b9b78b10169e8             1     moveis_escritorio  \n",
              "2  a9516a079e37a9c9c36b9b78b10169e8             1     moveis_escritorio  \n",
              "3  a9516a079e37a9c9c36b9b78b10169e8             1     moveis_escritorio  \n",
              "4  a9516a079e37a9c9c36b9b78b10169e8             1     moveis_escritorio  "
            ]
          },
          "metadata": {
            "tags": []
          },
          "execution_count": 126
        }
      ]
    },
    {
      "cell_type": "code",
      "metadata": {
        "id": "9y98CRlpRpm9",
        "colab_type": "code",
        "colab": {}
      },
      "source": [
        "song_df_grouped = df2.groupby(['customer_state','product_id']).agg({'bought_count': sum}).reset_index()\n"
      ],
      "execution_count": null,
      "outputs": []
    },
    {
      "cell_type": "code",
      "metadata": {
        "id": "kB3x7LNdRpnH",
        "colab_type": "code",
        "colab": {},
        "outputId": "f2470087-88fd-40e7-b8d7-569807c5d32c"
      },
      "source": [
        "song_df_grouped.head()"
      ],
      "execution_count": null,
      "outputs": [
        {
          "output_type": "execute_result",
          "data": {
            "text/html": [
              "<div>\n",
              "<style scoped>\n",
              "    .dataframe tbody tr th:only-of-type {\n",
              "        vertical-align: middle;\n",
              "    }\n",
              "\n",
              "    .dataframe tbody tr th {\n",
              "        vertical-align: top;\n",
              "    }\n",
              "\n",
              "    .dataframe thead th {\n",
              "        text-align: right;\n",
              "    }\n",
              "</style>\n",
              "<table border=\"1\" class=\"dataframe\">\n",
              "  <thead>\n",
              "    <tr style=\"text-align: right;\">\n",
              "      <th></th>\n",
              "      <th>customer_state</th>\n",
              "      <th>product_id</th>\n",
              "      <th>bought_count</th>\n",
              "    </tr>\n",
              "  </thead>\n",
              "  <tbody>\n",
              "    <tr>\n",
              "      <th>0</th>\n",
              "      <td>AC</td>\n",
              "      <td>02475368dfb38934fe55f574024fe1d7</td>\n",
              "      <td>1</td>\n",
              "    </tr>\n",
              "    <tr>\n",
              "      <th>1</th>\n",
              "      <td>AC</td>\n",
              "      <td>0798196b28c04c8e543322896c882902</td>\n",
              "      <td>1</td>\n",
              "    </tr>\n",
              "    <tr>\n",
              "      <th>2</th>\n",
              "      <td>AC</td>\n",
              "      <td>09dbbe2c4f26cad4d560aea043f9632c</td>\n",
              "      <td>1</td>\n",
              "    </tr>\n",
              "    <tr>\n",
              "      <th>3</th>\n",
              "      <td>AC</td>\n",
              "      <td>0a41699cb57f40c605d3cfdddd61673b</td>\n",
              "      <td>1</td>\n",
              "    </tr>\n",
              "    <tr>\n",
              "      <th>4</th>\n",
              "      <td>AC</td>\n",
              "      <td>0a4dea9eaeaaea5b7894a9a4ec6ed660</td>\n",
              "      <td>1</td>\n",
              "    </tr>\n",
              "  </tbody>\n",
              "</table>\n",
              "</div>"
            ],
            "text/plain": [
              "  customer_state                        product_id  bought_count\n",
              "0             AC  02475368dfb38934fe55f574024fe1d7             1\n",
              "1             AC  0798196b28c04c8e543322896c882902             1\n",
              "2             AC  09dbbe2c4f26cad4d560aea043f9632c             1\n",
              "3             AC  0a41699cb57f40c605d3cfdddd61673b             1\n",
              "4             AC  0a4dea9eaeaaea5b7894a9a4ec6ed660             1"
            ]
          },
          "metadata": {
            "tags": []
          },
          "execution_count": 200
        }
      ]
    },
    {
      "cell_type": "code",
      "metadata": {
        "id": "pNBxWq1kRpnR",
        "colab_type": "code",
        "colab": {}
      },
      "source": [
        "df4 = song_df_grouped.groupby([\"customer_state\"]).apply(lambda x: x.sort_values([\"bought_count\"], ascending = False).head(10))"
      ],
      "execution_count": null,
      "outputs": []
    },
    {
      "cell_type": "code",
      "metadata": {
        "id": "YfrXKVYhRpna",
        "colab_type": "code",
        "colab": {}
      },
      "source": [
        "df4.to_csv('test', sep='\\t')\n"
      ],
      "execution_count": null,
      "outputs": []
    },
    {
      "cell_type": "code",
      "metadata": {
        "id": "kCfDmw59Rpnk",
        "colab_type": "code",
        "colab": {},
        "outputId": "95e94b2e-df2d-4dd6-9ef9-5b20bcc88995"
      },
      "source": [
        "df5 = df4.loc[df4['customer_state'] == 'SP']\n",
        "df5"
      ],
      "execution_count": null,
      "outputs": [
        {
          "output_type": "execute_result",
          "data": {
            "text/html": [
              "<div>\n",
              "<style scoped>\n",
              "    .dataframe tbody tr th:only-of-type {\n",
              "        vertical-align: middle;\n",
              "    }\n",
              "\n",
              "    .dataframe tbody tr th {\n",
              "        vertical-align: top;\n",
              "    }\n",
              "\n",
              "    .dataframe thead th {\n",
              "        text-align: right;\n",
              "    }\n",
              "</style>\n",
              "<table border=\"1\" class=\"dataframe\">\n",
              "  <thead>\n",
              "    <tr style=\"text-align: right;\">\n",
              "      <th></th>\n",
              "      <th></th>\n",
              "      <th>customer_state</th>\n",
              "      <th>product_id</th>\n",
              "      <th>bought_count</th>\n",
              "    </tr>\n",
              "    <tr>\n",
              "      <th>customer_state</th>\n",
              "      <th></th>\n",
              "      <th></th>\n",
              "      <th></th>\n",
              "      <th></th>\n",
              "    </tr>\n",
              "  </thead>\n",
              "  <tbody>\n",
              "    <tr>\n",
              "      <th rowspan=\"10\" valign=\"top\">SP</th>\n",
              "      <th>54676</th>\n",
              "      <td>SP</td>\n",
              "      <td>aca2eb7d00ea1a7b8ebd4e68314663af</td>\n",
              "      <td>265</td>\n",
              "    </tr>\n",
              "    <tr>\n",
              "      <th>53300</th>\n",
              "      <td>SP</td>\n",
              "      <td>99a4788cb24856965c36a24e339b6058</td>\n",
              "      <td>231</td>\n",
              "    </tr>\n",
              "    <tr>\n",
              "      <th>46810</th>\n",
              "      <td>SP</td>\n",
              "      <td>422879e10f46682990de24d770e7f83d</td>\n",
              "      <td>181</td>\n",
              "    </tr>\n",
              "    <tr>\n",
              "      <th>45907</th>\n",
              "      <td>SP</td>\n",
              "      <td>368c6c730842d78016ad823897a372db</td>\n",
              "      <td>135</td>\n",
              "    </tr>\n",
              "    <tr>\n",
              "      <th>46079</th>\n",
              "      <td>SP</td>\n",
              "      <td>389d119b48cf3043d311335e499d9c6b</td>\n",
              "      <td>133</td>\n",
              "    </tr>\n",
              "    <tr>\n",
              "      <th>48145</th>\n",
              "      <td>SP</td>\n",
              "      <td>53759a2ecddad2bb87a079a1f1519f73</td>\n",
              "      <td>121</td>\n",
              "    </tr>\n",
              "    <tr>\n",
              "      <th>43413</th>\n",
              "      <td>SP</td>\n",
              "      <td>154e7e31ebfa092203795c972e5804a6</td>\n",
              "      <td>117</td>\n",
              "    </tr>\n",
              "    <tr>\n",
              "      <th>48159</th>\n",
              "      <td>SP</td>\n",
              "      <td>53b36df67ebb7c41585e8d54d6772e08</td>\n",
              "      <td>111</td>\n",
              "    </tr>\n",
              "    <tr>\n",
              "      <th>58621</th>\n",
              "      <td>SP</td>\n",
              "      <td>e0cf79767c5b016251fe139915c59a26</td>\n",
              "      <td>104</td>\n",
              "    </tr>\n",
              "    <tr>\n",
              "      <th>46912</th>\n",
              "      <td>SP</td>\n",
              "      <td>437c05a395e9e47f9762e677a7068ce7</td>\n",
              "      <td>99</td>\n",
              "    </tr>\n",
              "  </tbody>\n",
              "</table>\n",
              "</div>"
            ],
            "text/plain": [
              "                     customer_state                        product_id  \\\n",
              "customer_state                                                          \n",
              "SP             54676             SP  aca2eb7d00ea1a7b8ebd4e68314663af   \n",
              "               53300             SP  99a4788cb24856965c36a24e339b6058   \n",
              "               46810             SP  422879e10f46682990de24d770e7f83d   \n",
              "               45907             SP  368c6c730842d78016ad823897a372db   \n",
              "               46079             SP  389d119b48cf3043d311335e499d9c6b   \n",
              "               48145             SP  53759a2ecddad2bb87a079a1f1519f73   \n",
              "               43413             SP  154e7e31ebfa092203795c972e5804a6   \n",
              "               48159             SP  53b36df67ebb7c41585e8d54d6772e08   \n",
              "               58621             SP  e0cf79767c5b016251fe139915c59a26   \n",
              "               46912             SP  437c05a395e9e47f9762e677a7068ce7   \n",
              "\n",
              "                      bought_count  \n",
              "customer_state                      \n",
              "SP             54676           265  \n",
              "               53300           231  \n",
              "               46810           181  \n",
              "               45907           135  \n",
              "               46079           133  \n",
              "               48145           121  \n",
              "               43413           117  \n",
              "               48159           111  \n",
              "               58621           104  \n",
              "               46912            99  "
            ]
          },
          "metadata": {
            "tags": []
          },
          "execution_count": 218
        }
      ]
    },
    {
      "cell_type": "code",
      "metadata": {
        "id": "scqAU9iFRpny",
        "colab_type": "code",
        "colab": {}
      },
      "source": [
        ""
      ],
      "execution_count": null,
      "outputs": []
    },
    {
      "cell_type": "code",
      "metadata": {
        "id": "8OWpBsb_Rpn6",
        "colab_type": "code",
        "colab": {}
      },
      "source": [
        ""
      ],
      "execution_count": null,
      "outputs": []
    }
  ]
}